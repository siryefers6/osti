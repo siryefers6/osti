{
 "cells": [
  {
   "cell_type": "code",
   "execution_count": 15,
   "metadata": {},
   "outputs": [],
   "source": [
    "import pandas as pd"
   ]
  },
  {
   "cell_type": "code",
   "execution_count": 16,
   "metadata": {},
   "outputs": [
    {
     "data": {
      "text/html": [
       "<div>\n",
       "<style scoped>\n",
       "    .dataframe tbody tr th:only-of-type {\n",
       "        vertical-align: middle;\n",
       "    }\n",
       "\n",
       "    .dataframe tbody tr th {\n",
       "        vertical-align: top;\n",
       "    }\n",
       "\n",
       "    .dataframe thead th {\n",
       "        text-align: right;\n",
       "    }\n",
       "</style>\n",
       "<table border=\"1\" class=\"dataframe\">\n",
       "  <thead>\n",
       "    <tr style=\"text-align: right;\">\n",
       "      <th></th>\n",
       "      <th>Guia</th>\n",
       "      <th>Orden de Compra</th>\n",
       "      <th>CCosto</th>\n",
       "    </tr>\n",
       "  </thead>\n",
       "  <tbody>\n",
       "    <tr>\n",
       "      <th>0</th>\n",
       "      <td>5399593</td>\n",
       "      <td>30752452</td>\n",
       "      <td>1513</td>\n",
       "    </tr>\n",
       "    <tr>\n",
       "      <th>1</th>\n",
       "      <td>5394592</td>\n",
       "      <td>30753502</td>\n",
       "      <td>1148</td>\n",
       "    </tr>\n",
       "    <tr>\n",
       "      <th>2</th>\n",
       "      <td>5394589</td>\n",
       "      <td>30753553</td>\n",
       "      <td>1140</td>\n",
       "    </tr>\n",
       "    <tr>\n",
       "      <th>3</th>\n",
       "      <td>5394678</td>\n",
       "      <td>30753576</td>\n",
       "      <td>1124</td>\n",
       "    </tr>\n",
       "    <tr>\n",
       "      <th>4</th>\n",
       "      <td>5394588</td>\n",
       "      <td>30753607</td>\n",
       "      <td>1122</td>\n",
       "    </tr>\n",
       "    <tr>\n",
       "      <th>...</th>\n",
       "      <td>...</td>\n",
       "      <td>...</td>\n",
       "      <td>...</td>\n",
       "    </tr>\n",
       "    <tr>\n",
       "      <th>576</th>\n",
       "      <td>5399608</td>\n",
       "      <td>4300002731</td>\n",
       "      <td>1541</td>\n",
       "    </tr>\n",
       "    <tr>\n",
       "      <th>577</th>\n",
       "      <td>5399609</td>\n",
       "      <td>4300002731</td>\n",
       "      <td>1523</td>\n",
       "    </tr>\n",
       "    <tr>\n",
       "      <th>578</th>\n",
       "      <td>5399610</td>\n",
       "      <td>4300002731</td>\n",
       "      <td>1533</td>\n",
       "    </tr>\n",
       "    <tr>\n",
       "      <th>579</th>\n",
       "      <td>5407604</td>\n",
       "      <td>4200185031</td>\n",
       "      <td>2400</td>\n",
       "    </tr>\n",
       "    <tr>\n",
       "      <th>580</th>\n",
       "      <td>5407606</td>\n",
       "      <td>4200185031</td>\n",
       "      <td>2403</td>\n",
       "    </tr>\n",
       "  </tbody>\n",
       "</table>\n",
       "<p>581 rows × 3 columns</p>\n",
       "</div>"
      ],
      "text/plain": [
       "        Guia  Orden de Compra  CCosto\n",
       "0    5399593         30752452    1513\n",
       "1    5394592         30753502    1148\n",
       "2    5394589         30753553    1140\n",
       "3    5394678         30753576    1124\n",
       "4    5394588         30753607    1122\n",
       "..       ...              ...     ...\n",
       "576  5399608       4300002731    1541\n",
       "577  5399609       4300002731    1523\n",
       "578  5399610       4300002731    1533\n",
       "579  5407604       4200185031    2400\n",
       "580  5407606       4200185031    2403\n",
       "\n",
       "[581 rows x 3 columns]"
      ]
     },
     "execution_count": 16,
     "metadata": {},
     "output_type": "execute_result"
    }
   ],
   "source": [
    "informe = pd.read_excel('informe.xlsx', skiprows=5, usecols=[3,4,7,13])\n",
    "informe = informe[informe['Guia']>1]\n",
    "informe = informe.astype({'CCosto': 'int', 'Guia': 'int'})\n",
    "informe['Orden de Compra'] = informe['Orden de Compra'].apply(lambda x: int(x))\n",
    "informe = informe[['Guia', 'Orden de Compra', 'CCosto']]\n",
    "informe"
   ]
  },
  {
   "cell_type": "code",
   "execution_count": 17,
   "metadata": {},
   "outputs": [
    {
     "data": {
      "text/plain": [
       "Orden de Compra\n",
       "4300002731    110\n",
       "4200186472    101\n",
       "4200187569     99\n",
       "4200187317     10\n",
       "4200185037      9\n",
       "             ... \n",
       "4200187288      1\n",
       "4200187289      1\n",
       "4200187291      1\n",
       "4200187292      1\n",
       "4200187307      1\n",
       "Name: count, Length: 203, dtype: int64"
      ]
     },
     "execution_count": 17,
     "metadata": {},
     "output_type": "execute_result"
    }
   ],
   "source": [
    "guias_por_oc = informe['Orden de Compra'].value_counts()\n",
    "guias_por_oc"
   ]
  },
  {
   "cell_type": "code",
   "execution_count": 18,
   "metadata": {},
   "outputs": [],
   "source": [
    "oc_individual = guias_por_oc[guias_por_oc.values==1].index\n",
    "filtro_oc_individual = informe['Orden de Compra'].isin(oc_individual)\n",
    "informe_oc_individual = informe[filtro_oc_individual]\n",
    "informe_oc_individual.to_csv('informe_oc_individual.csv', index=False)"
   ]
  },
  {
   "cell_type": "code",
   "execution_count": 19,
   "metadata": {},
   "outputs": [],
   "source": [
    "oc_2_cc = guias_por_oc[guias_por_oc.values==2].index\n",
    "filtro_oc_2_cc = informe['Orden de Compra'].isin(oc_2_cc)\n",
    "informe_oc_2_cc = informe[filtro_oc_2_cc]\n",
    "informe_oc_2_cc.to_csv('informe_oc_2_cc.csv', index=False)"
   ]
  },
  {
   "cell_type": "code",
   "execution_count": 20,
   "metadata": {},
   "outputs": [],
   "source": [
    "oc_menos_de_50_cc = (guias_por_oc[(guias_por_oc.values < 50) & (guias_por_oc.values > 2)].index)\n",
    "filtro_oc_menos_de_50_cc = informe['Orden de Compra'].isin(oc_menos_de_50_cc)\n",
    "informe_oc_menos_de_50_cc = informe[filtro_oc_menos_de_50_cc]\n",
    "informe_oc_menos_de_50_cc.to_csv('informe_oc_menos_de_50_cc.csv', index=False)"
   ]
  },
  {
   "cell_type": "code",
   "execution_count": 21,
   "metadata": {},
   "outputs": [],
   "source": [
    "informe = informe.drop(informe_oc_individual.index).drop(informe_oc_2_cc.index)\n",
    "informe = informe.drop(informe_oc_menos_de_50_cc.index)\n",
    "informe.to_csv('informe.csv', index=False)"
   ]
  }
 ],
 "metadata": {
  "kernelspec": {
   "display_name": "Python 3",
   "language": "python",
   "name": "python3"
  },
  "language_info": {
   "codemirror_mode": {
    "name": "ipython",
    "version": 3
   },
   "file_extension": ".py",
   "mimetype": "text/x-python",
   "name": "python",
   "nbconvert_exporter": "python",
   "pygments_lexer": "ipython3",
   "version": "3.11.6"
  }
 },
 "nbformat": 4,
 "nbformat_minor": 2
}
